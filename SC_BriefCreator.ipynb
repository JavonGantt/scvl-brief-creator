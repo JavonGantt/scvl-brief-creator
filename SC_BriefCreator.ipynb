{
 "cells": [
  {
   "cell_type": "code",
   "execution_count": 23,
   "id": "2a12ecfb",
   "metadata": {},
   "outputs": [],
   "source": [
    "# Load environment variables from .env file\n",
    "from dotenv import load_dotenv\n",
    "\n",
    "# Import core agent functionality for creating AI agents and running them\n",
    "from agents import Agent, Runner, Trace, function_tool, trace\n",
    "\n",
    "from agents.extensions.visualization import draw_graph\n",
    "\n",
    "# Import OpenAI response types for handling streaming responses\n",
    "from openai.types.responses import ResponseTextDeltaEvent\n",
    "\n",
    "# Import type hints for better code documentation and IDE support\n",
    "from typing import Dict, List, Optional\n",
    "\n",
    "# Import SendGrid for email functionality\n",
    "import sendgrid\n",
    "import os\n",
    "\n",
    "# Import SendGrid email components for creating and sending emails\n",
    "from sendgrid.helpers.mail import Mail, Email, To, Content\n",
    "\n",
    "import asyncio\n",
    "\n",
    "import pandas as pd\n",
    "\n",
    "\n",
    "from pydantic import BaseModel, Field\n",
    "from openai import OpenAI\n",
    "\n",
    "import json\n",
    "\n",
    "from typing import List, Union\n",
    "\n",
    "\n",
    "from dataclasses import asdict\n",
    "\n",
    "\n",
    "\n",
    "\n",
    "\n",
    "\n",
    "\n",
    "\n"
   ]
  },
  {
   "cell_type": "code",
   "execution_count": 2,
   "id": "ead37ba5",
   "metadata": {},
   "outputs": [
    {
     "data": {
      "text/plain": [
       "True"
      ]
     },
     "execution_count": 2,
     "metadata": {},
     "output_type": "execute_result"
    }
   ],
   "source": [
    "load_dotenv(override=True)\n",
    "\n",
    "\n",
    "\n",
    "\n"
   ]
  },
  {
   "cell_type": "code",
   "execution_count": 3,
   "id": "2739741a",
   "metadata": {},
   "outputs": [],
   "source": [
    "# Read the CSV file containing active promotions\n",
    "def read_active_promotions(csv_file_path: str = r\"C:\\Users\\javon\\projects\\agents\\TrueActivePromos.csv\") -> pd.DataFrame:\n",
    "    \"\"\"\n",
    "    Read the ActivePromotions.csv file and return a pandas DataFrame.\n",
    "    \n",
    "    Args:\n",
    "        csv_file_path (str): Path to the CSV file. Defaults to the full path to ActivePromotions.csv\n",
    "    \n",
    "    Returns:\n",
    "        pd.DataFrame: DataFrame containing the active promotions data\n",
    "    \"\"\"\n",
    "    try:\n",
    "        df = pd.read_csv(csv_file_path)\n",
    "        print(f\"Successfully loaded {len(df)} active promotions from {csv_file_path}\")\n",
    "        return df\n",
    "    except FileNotFoundError:\n",
    "        print(f\"Error: File '{csv_file_path}' not found.\")\n",
    "        return pd.DataFrame()\n",
    "    except Exception as e:\n",
    "        print(f\"Error reading CSV file: {e}\")\n",
    "        return pd.DataFrame()\n",
    "\n",
    "# Example usage - you can call this function to load the promotions data\n",
    "# promotions_df = read_active_promotions()\n"
   ]
  },
  {
   "cell_type": "code",
   "execution_count": 4,
   "id": "3ec04743",
   "metadata": {},
   "outputs": [
    {
     "name": "stdout",
     "output_type": "stream",
     "text": [
      "Successfully loaded 45 active promotions from C:\\Users\\javon\\projects\\agents\\TrueActivePromos.csv\n"
     ]
    }
   ],
   "source": [
    "active_promotions = read_active_promotions().to_dict(orient=\"records\")\n",
    "\n",
    "promotions_string = json.dumps(active_promotions, indent=2)\n",
    "\n",
    "\n",
    "\n",
    "\n",
    "\n"
   ]
  },
  {
   "cell_type": "code",
   "execution_count": 70,
   "id": "b356c57a",
   "metadata": {},
   "outputs": [],
   "source": [
    "\n",
    "from pydantic import NaiveDatetime\n",
    "\n",
    "\n",
    "class BriefCreator(BaseModel):\n",
    "    campaign_name: str = Field(..., example=\"Back to School Savings!\")\n",
    "    campaign_date: str = Field(..., example=\"2025-07-19\")\n",
    "    campaign_subject_line: str = Field(..., example=\"Kick off Back to School with Hot Deals!\")\n",
    "    campaign_preheader: str = Field(..., example=\"Shop summer deals before they're gone!\")\n",
    "    campaign_objective: str = Field(..., example=\"Encourage families to shop for sandals and athletic wear for the upcoming school year.\")\n",
    "    sale1_name: str = Field(..., example=\"BOGOF SANDALS\")\n",
    "    sale2_name: str = Field(..., example=\"50% OFF SELECT W/K SANDALS MIC & CART PRICING\")\n",
    "    sale3_name: str = Field(..., example=\"FAMILY SANDAL SALE STARTING AT $19.98 MIC & CART PRICING\")\n",
    "    sale1_image_description: str = Field(..., example=\"Colorful beach sandals placed on a sandy beach\")\n",
    "    sale1_cta: str = Field(..., example=\"Shop Sandals\")\n",
    "    sale2_image_description: str = Field(..., example=\"Select sandals displayed with a '50% OFF' tag\")\n",
    "    sale2_cta: str = Field(..., example=\"Shop Sandals\")\n",
    "    sale3_image_description: str = Field(..., example=\"A family in matching sandals having fun at the park\")\n",
    "    sale3_cta: str = Field(..., example=\"Shop Sandals\")\n"
   ]
  },
  {
   "cell_type": "code",
   "execution_count": 87,
   "id": "712f144d",
   "metadata": {},
   "outputs": [],
   "source": [
    "active_promotions_instructions = (\n",
    "    \"You are an email campaign strategist for Shoe Carnival, a family-focused retail brand. \"\n",
    "    \"You are provided a list of currently active promotions as a JSON object called `active_promotions`. \"\n",
    "    \"You must only use promotions listed in this data — do not invent or reference any others. \"\n",
    "    \"Use the `create_brief` tool to build a campaign brief using 2–3 promotions that make sense together. \"\n",
    "    \"Always reference each promotion by its `nameForPods` field for clarity. \"\n",
    "    \"If you would like help crafting the email subject line, you may call the `subject_writer` tool. \"\n",
    "    \"To check which promotions are active during a specific date range, you may use the `data_analyst` tool by passing it a message like: \"\n",
    "    \"'Which promotions are valid on 07/19/2025?'. \"\n",
    "    \"The tool already has access to the full `active_promotions` dataset through context, so you do not need to include it again in the message. \"\n",
    "    \"Once you have created a brief (or multiple), use the `store_story` tool to save them for future use. \"\n",
    "    \"Make sure your stories are cohesive, engaging, and aligned with the brand’s tone and audience. \"\n",
    "    \"The stories you create must be different from each other and not the same story. For Example if you create a sandals email, then the other one for that day should be different, like athletics.\"\n",
    "    \"Never create more stories than what is being asked for\"\n",
    ")\n",
    "\n",
    "\n",
    "\n",
    "data_analyst_instructions = (\n",
    "    \"You are a data analyst for Shoe Carnival. \"\n",
    "    \"You are a data analyst for Shoe Carnival. You are provided a message and a list of active promotions in a field called `active_promotions`. \"\n",
    "\"Do not invent any promotions. Respond only based on the provided data.\"\n",
    "f\"You must use these deals: {active_promotions}` and start  and end date fields  to return all eligible deals \"\n",
    ")\n",
    "\n",
    "\n",
    "subject_instructions = \"You can write a subject for a cold sales email. \\\n",
    "    you are give a message and you need to write a subject for an email that is likely to get a response\"\n",
    "\n",
    "subject_writer = Agent(name=\"Email subject writer\", instructions=subject_instructions, model=\"gpt-4o-mini\")\n",
    "subject_tool = subject_writer.as_tool(tool_name=\"subject_writer\", tool_description=\"Write an engaging subject line for a marketing email\")\n",
    "\n",
    "data_analyst = Agent(name=\"Data Analyst\", instructions=data_analyst_instructions, model=\"gpt-4o-mini\", output_type=List[str])\n",
    "data_analyst_tool = data_analyst.as_tool(tool_name=\"data_analyst\", tool_description=\"Provide a list of all promotions that are available in the requested date range\")\n",
    "\n",
    "\n",
    "story_storage = []\n",
    "\n",
    "@function_tool\n",
    "def store_story(story_data: Union[BriefCreator, List[BriefCreator]]):\n",
    "    \"\"\"\n",
    "    Store one or more campaign briefs.\n",
    "    Accepts a single brief or a list of briefs.\n",
    "    \"\"\"\n",
    "    if isinstance(story_data, list):\n",
    "        story_storage.extend(story_data)\n",
    "        return f\"{len(story_data)} stories stored successfully. Total stories: {len(story_storage)}\"\n",
    "    else:\n",
    "        story_storage.append(story_data)\n",
    "        return f\"Story stored successfully. Total stories: {len(story_storage)}\"\n",
    "\n",
    "\n",
    "\n",
    "tools = [subject_tool, data_analyst_tool, store_story]\n",
    "\n",
    "\n",
    "\n",
    "story_agent = Agent(\n",
    "    name=\"Story Agent\",\n",
    "    instructions=active_promotions_instructions,\n",
    "    model=\"gpt-4o-mini\",\n",
    "    output_type=BriefCreator,\n",
    "    tools=tools,\n",
    ")\n",
    "\n",
    "\n"
   ]
  },
  {
   "cell_type": "code",
   "execution_count": 88,
   "id": "c3ea1020",
   "metadata": {},
   "outputs": [
    {
     "name": "stdout",
     "output_type": "stream",
     "text": [
      "campaign_name='BTS Crocs Comfort' campaign_date='2025-07-19' campaign_subject_line='Step into School Season: Discover Your Perfect Crocs!' campaign_preheader='Find the ideal Crocs for everyone this school year!' campaign_objective='Encourage families to discover comfortable Crocs for back-to-school.' sale1_name='CROCS STARTING AT $39.98' sale2_name='' sale3_name='' sale1_image_description='Brightly colored Crocs on display in a lighthearted family setting.' sale1_cta='Shop Crocs for Kids & Adults' sale2_image_description='' sale2_cta='' sale3_image_description='' sale3_cta=''\n"
     ]
    }
   ],
   "source": [
    "with trace(\"Create Email Stories\"):\n",
    "    result = await Runner.run(story_agent, input=f\"create 2 BTS themed emails for  07/19/2025\")\n",
    "\n",
    "#brief = BriefCreator.model_validate(result.final_output)\n",
    "\n",
    "print(result.final_output)\n"
   ]
  },
  {
   "cell_type": "code",
   "execution_count": 89,
   "id": "be75dcf6",
   "metadata": {},
   "outputs": [
    {
     "name": "stdout",
     "output_type": "stream",
     "text": [
      "[\n",
      "  {\n",
      "    \"campaign_name\": \"BTS Nike Gear Extravaganza\",\n",
      "    \"campaign_date\": \"2025-07-19\",\n",
      "    \"campaign_subject_line\": \"Unbeatable Nike Deals for the New School Year \\u2013 Don't Miss Out!\",\n",
      "    \"campaign_preheader\": \"Grab the best Nike athletic shoes for your kids!\",\n",
      "    \"campaign_objective\": \"Encourage families to shop for Nike shoes for back-to-school athletics.\",\n",
      "    \"sale1_name\": \"NIKE OMNI ADULTS\",\n",
      "    \"sale2_name\": \"NIKE OMNI KIDS\",\n",
      "    \"sale3_name\": \"ATHLETICS UNDER $65\",\n",
      "    \"sale1_image_description\": \"Stylish Nike omni shoes displayed in a school setting.\",\n",
      "    \"sale1_cta\": \"Shop Adult Nike Shoes\",\n",
      "    \"sale2_image_description\": \"Nike kids shoes in playful colors next to school supplies.\",\n",
      "    \"sale2_cta\": \"Shop Kids Nike Shoes\",\n",
      "    \"sale3_image_description\": \"Various athletic options under $65 showcased in a sporty environment.\",\n",
      "    \"sale3_cta\": \"Shop Athletics Under $65\"\n",
      "  },\n",
      "  {\n",
      "    \"campaign_name\": \"BTS Crocs Comfort\",\n",
      "    \"campaign_date\": \"2025-07-19\",\n",
      "    \"campaign_subject_line\": \"Step into School Season: Discover Your Perfect Crocs!\",\n",
      "    \"campaign_preheader\": \"Find the ideal Crocs for everyone this school year!\",\n",
      "    \"campaign_objective\": \"Encourage families to discover comfortable Crocs for back-to-school.\",\n",
      "    \"sale1_name\": \"CROCS STARTING AT $39.98\",\n",
      "    \"sale2_name\": \"\",\n",
      "    \"sale3_name\": \"\",\n",
      "    \"sale1_image_description\": \"Brightly colored Crocs on display in a lighthearted family setting.\",\n",
      "    \"sale1_cta\": \"Shop Crocs for Kids & Adults\",\n",
      "    \"sale2_image_description\": \"\",\n",
      "    \"sale2_cta\": \"\",\n",
      "    \"sale3_image_description\": \"\",\n",
      "    \"sale3_cta\": \"\"\n",
      "  }\n",
      "]\n",
      "None\n"
     ]
    }
   ],
   "source": [
    "\n",
    "def dump_stories_as_json():\n",
    "    print(json.dumps(\n",
    "        [brief.model_dump() for brief in story_storage], \n",
    "        indent=2\n",
    "    ))\n",
    "\n",
    "print(dump_stories_as_json())"
   ]
  }
 ],
 "metadata": {
  "kernelspec": {
   "display_name": ".venv",
   "language": "python",
   "name": "python3"
  },
  "language_info": {
   "codemirror_mode": {
    "name": "ipython",
    "version": 3
   },
   "file_extension": ".py",
   "mimetype": "text/x-python",
   "name": "python",
   "nbconvert_exporter": "python",
   "pygments_lexer": "ipython3",
   "version": "3.12.11"
  }
 },
 "nbformat": 4,
 "nbformat_minor": 5
}
