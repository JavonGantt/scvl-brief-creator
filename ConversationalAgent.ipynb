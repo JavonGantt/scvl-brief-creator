{
 "cells": [
  {
   "cell_type": "code",
   "execution_count": 1,
   "id": "21380591",
   "metadata": {},
   "outputs": [
    {
     "name": "stdout",
     "output_type": "stream",
     "text": [
      "Successfully imported all dependencies\n"
     ]
    }
   ],
   "source": [
    "# Load environment variables from .env file\n",
    "from dotenv import load_dotenv\n",
    "\n",
    "# Import core agent functionality for creating AI agents and running them\n",
    "from agents import Agent, Runner, Trace, function_tool, trace\n",
    "\n",
    "from agents.extensions.visualization import draw_graph\n",
    "\n",
    "# Import OpenAI response types for handling streaming responses\n",
    "from openai.types.responses import ResponseTextDeltaEvent\n",
    "\n",
    "# Import type hints for better code documentation and IDE support\n",
    "from typing import Dict, List, Optional\n",
    "\n",
    "# Import SendGrid for email functionality\n",
    "import sendgrid\n",
    "import os\n",
    "\n",
    "# Import SendGrid email components for creating and sending emails\n",
    "from sendgrid.helpers.mail import Mail, Email, To, Content\n",
    "\n",
    "import asyncio\n",
    "\n",
    "import pandas as pd\n",
    "\n",
    "from datetime import datetime\n",
    "\n",
    "from pydantic import BaseModel, Field\n",
    "from openai import OpenAI\n",
    "\n",
    "import json\n",
    "\n",
    "from typing import List, Union\n",
    "\n",
    "\n",
    "from dataclasses import asdict\n",
    "\n",
    "print(\"Successfully imported all dependencies\")\n"
   ]
  },
  {
   "cell_type": "code",
   "execution_count": 2,
   "id": "6382be0a",
   "metadata": {},
   "outputs": [
    {
     "name": "stdout",
     "output_type": "stream",
     "text": [
      "OPENAI_API_KEY found. First 4 chars: sk-p\n",
      "OpenAI API key was successfully found.\n"
     ]
    }
   ],
   "source": [
    "load_dotenv(override=True)\n",
    "\n",
    "\n",
    "openai_api_key = os.getenv(\"OPENAI_API_KEY\")\n",
    "if openai_api_key:\n",
    "    print(f\"OPENAI_API_KEY found. First 4 chars: {openai_api_key[:4]}\")\n",
    "    print(\"OpenAI API key was successfully found.\")\n",
    "else:\n",
    "    print(\"OPENAI_API_KEY not found in environment variables.\")\n",
    "\n",
    "\n",
    "\n",
    "\n",
    "\n",
    "\n",
    "\n",
    "\n"
   ]
  },
  {
   "cell_type": "code",
   "execution_count": 3,
   "id": "c97e9c9d",
   "metadata": {},
   "outputs": [],
   "source": [
    "# Read the CSV file containing active promotions\n",
    "def read_active_promotions(csv_file_path: str = r\"C:\\Users\\javon\\projects\\agents\\TrueActivePromos.csv\") -> pd.DataFrame:\n",
    "    \"\"\"\n",
    "    Read the ActivePromotions.csv file and return a pandas DataFrame.\n",
    "    \n",
    "    Args:\n",
    "        csv_file_path (str): Path to the CSV file. Defaults to the full path to ActivePromotions.csv\n",
    "    \n",
    "    Returns:\n",
    "        pd.DataFrame: DataFrame containing the active promotions data\n",
    "    \"\"\"\n",
    "    try:\n",
    "        df = pd.read_csv(csv_file_path)\n",
    "        print(f\"Successfully loaded {len(df)} active promotions from {csv_file_path}\")\n",
    "        return df\n",
    "    except FileNotFoundError:\n",
    "        print(f\"Error: File '{csv_file_path}' not found.\")\n",
    "        return pd.DataFrame()\n",
    "    except Exception as e:\n",
    "        print(f\"Error reading CSV file: {e}\")\n",
    "        return pd.DataFrame()\n",
    "\n",
    "# Example usage - you can call this function to load the promotions data\n",
    "# promotions_df = read_active_promotions()\n"
   ]
  },
  {
   "cell_type": "code",
   "execution_count": 4,
   "id": "e8b796ef",
   "metadata": {},
   "outputs": [],
   "source": [
    "# Read the CSV file containing active promotions\n",
    "def read_active_promotions(csv_file_path: str = r\"C:\\Users\\javon\\projects\\agents\\TrueActivePromos.csv\") -> pd.DataFrame:\n",
    "    \"\"\"\n",
    "    Read the ActivePromotions.csv file and return a pandas DataFrame.\n",
    "    \n",
    "    Args:\n",
    "        csv_file_path (str): Path to the CSV file. Defaults to the full path to ActivePromotions.csv\n",
    "    \n",
    "    Returns:\n",
    "        pd.DataFrame: DataFrame containing the active promotions data\n",
    "    \"\"\"\n",
    "    try:\n",
    "        df = pd.read_csv(csv_file_path)\n",
    "        print(f\"Successfully loaded {len(df)} active promotions from {csv_file_path}\")\n",
    "        return df\n",
    "    except FileNotFoundError:\n",
    "        print(f\"Error: File '{csv_file_path}' not found.\")\n",
    "        return pd.DataFrame()\n",
    "    except Exception as e:\n",
    "        print(f\"Error reading CSV file: {e}\")\n",
    "        return pd.DataFrame()\n",
    "\n",
    "# Example usage - you can call this function to load the promotions data\n",
    "# promotions_df = read_active_promotions()\n"
   ]
  },
  {
   "cell_type": "code",
   "execution_count": 5,
   "id": "fd06068f",
   "metadata": {},
   "outputs": [],
   "source": [
    "class BriefCreator(BaseModel):\n",
    "    campaign_name: str = Field(..., example=\"Back to School Savings!\")\n",
    "    campaign_date: str = Field(..., example=\"2025-07-19\")\n",
    "    campaign_subject_line: str = Field(..., example=\"Kick off Back to School with Hot Deals!\")\n",
    "    campaign_preheader: str = Field(..., example=\"Shop summer deals before they're gone!\")\n",
    "    campaign_objective: str = Field(..., example=\"Encourage families to shop for sandals and athletic wear for the upcoming school year.\")\n",
    "    sale1_name: str = Field(..., example=\"BOGOF SANDALS\")\n",
    "    sale2_name: str = Field(..., example=\"50% OFF SELECT W/K SANDALS MIC & CART PRICING\")\n",
    "    sale3_name: str = Field(..., example=\"FAMILY SANDAL SALE STARTING AT $19.98 MIC & CART PRICING\")\n",
    "    sale1_image_description: str = Field(..., example=\"Colorful beach sandals placed on a sandy beach\")\n",
    "    sale1_cta: str = Field(..., example=\"Shop Sandals\")\n",
    "    sale2_image_description: str = Field(..., example=\"Select sandals displayed with a '50% OFF' tag\")\n",
    "    sale2_cta: str = Field(..., example=\"Shop Sandals\")\n",
    "    sale3_image_description: str = Field(..., example=\"A family in matching sandals having fun at the park\")\n",
    "    sale3_cta: str = Field(..., example=\"Shop Sandals\")"
   ]
  },
  {
   "cell_type": "code",
   "execution_count": 6,
   "id": "a90f328a",
   "metadata": {},
   "outputs": [],
   "source": [
    "# Tool exposed to the agent\n",
    "@function_tool\n",
    "async def search_promotions_by_date(target_date: str) -> dict:\n",
    "    \"\"\"\n",
    "    Agent tool: Search for active promotions on a specific date.\n",
    "    \"\"\"\n",
    "    try:\n",
    "        # Load data using your reliable function\n",
    "        df = read_active_promotions(r\"C:\\Users\\javon\\projects\\agents\\TrueActivePromos.csv\")\n",
    "        if df.empty:\n",
    "            return {\"error\": \"CSV file could not be loaded.\"}\n",
    "\n",
    "        # Date conversion\n",
    "        target_dt = datetime.strptime(target_date, '%m/%d/%Y' if '/' in target_date else '%Y-%m-%d')\n",
    "        df['StartDate'] = pd.to_datetime(df['StartDate'], format='%m/%d/%Y')\n",
    "        df['EndDate'] = pd.to_datetime(df['EndDate'], format='%m/%d/%Y')\n",
    "\n",
    "        # Filter for active\n",
    "        active = df[\n",
    "            (df['StartDate'] <= target_dt) &\n",
    "            (df['EndDate'] >= target_dt) &\n",
    "            (df['Status'].str.lower() == 'active')\n",
    "        ]\n",
    "\n",
    "        # Format results\n",
    "        output = active[[\n",
    "    'Name', 'StartDate', 'EndDate', 'URL',\n",
    "    'Status', 'nameForPods', 'Blurb'\n",
    "]].copy()\n",
    "\n",
    "        output['StartDate'] = output['StartDate'].dt.strftime('%Y-%m-%d')\n",
    "        output['EndDate'] = output['EndDate'].dt.strftime('%Y-%m-%d')\n",
    "\n",
    "        return {\"promotions\": output.to_dict(orient=\"records\")}\n",
    "\n",
    "    except Exception as e:\n",
    "        return {\"error\": str(e)}\n",
    "\n",
    "        \n",
    "analyst_tools = [search_promotions_by_date]\n"
   ]
  },
  {
   "cell_type": "code",
   "execution_count": 7,
   "id": "12d7c2ae",
   "metadata": {},
   "outputs": [],
   "source": [
    "\n",
    "class PromotionReturn(BaseModel):\n",
    "    name: str\n",
    "    start_date: str\n",
    "    end_date: str\n",
    "    url: str\n",
    "    status: str\n",
    "    name_for_pods: str\n",
    "    blurb: str\n",
    "\n",
    "class PromotionsOutput(BaseModel):\n",
    "    promotions: List[PromotionReturn]\n"
   ]
  },
  {
   "cell_type": "code",
   "execution_count": null,
   "id": "ee416310",
   "metadata": {},
   "outputs": [],
   "source": [
    "Promotion_Agent_Instructions = \"\"\"\n",
    "You are an assistant whose responsibility is to return active promotions for a given date.\n",
    "When a user provides a date, search the available promotions and return all promotions that are active on that date.\n",
    "If no promotions are found for the given date, politely inform the user.\n",
    "Be concise and accurate in your responses.\n",
    "Return the results as a JSON object (dictionary) with a key 'promotions' containing a list of promotions, \n",
    "where each promotion is structured according to the PromotionReturn class fields.\n",
    "\"\"\"\n",
    "\n",
    "from typing import Dict, List\n",
    "\n",
    "# The output_type is now a dictionary with a key 'promotions' containing a list of PromotionReturn objects\n",
    "promotion_agent = Agent(\n",
    "    name=\"Promotion Agent\",\n",
    "    instructions=Promotion_Agent_Instructions,\n",
    "    model=\"gpt-4o-mini\",\n",
    "    tools=analyst_tools,\n",
    "    output_type=PromotionsOutput  # 👈 Key addition\n",
    ")\n",
    "\n",
    "promotion_agent_as_tool = promotion_agent.as_tool(tool_name=\"promotion_agent\", tool_description=\"Return active promotions for a given date\")\n",
    "\n",
    "\n",
    "\n",
    "\n",
    "\n",
    "\n",
    "\n"
   ]
  },
  {
   "cell_type": "code",
   "execution_count": 9,
   "id": "002cc0e5",
   "metadata": {},
   "outputs": [
    {
     "name": "stdout",
     "output_type": "stream",
     "text": [
      "Successfully loaded 45 active promotions from C:\\Users\\javon\\projects\\agents\\TrueActivePromos.csv\n",
      "promotions=[PromotionReturn(name='BOGOF SANDALS', start_date='2025-04-16', end_date='2025-07-22', url='', status='Active', name_for_pods='BOGOF SANDALS (04/16/2025-07/22/2025)', blurb='In Store and Online\\nBOGOF SANDALS\\nShop Now'), PromotionReturn(name='50% OFF SELECT W/K SANDALS MIC & CART PRICING', start_date='2025-06-25', end_date='2025-08-05', url='https://www.shoecarnival.com/flash-sale-4', status='Active', name_for_pods='50% OFF SELECT W/K SANDALS MIC & CART PRICING (06/25/2025-08/05/2025)', blurb='In Store and Online\\n50% OFF SELECT W/K SANDALS MIC & CART PRICING\\nShop Now'), PromotionReturn(name='FAMILY SANDAL SALE STARTING AT $19.98 MIC & CART PRICING', start_date='2025-06-25', end_date='2025-08-05', url='https://www.shoecarnival.com/family-sandals?sale=true', status='Active', name_for_pods='FAMILY SANDAL SALE STARTING AT $19.98 MIC & CART PRICING (06/25/2025-08/05/2025)', blurb='In Store and Online\\nFAMILY SANDAL SALE STARTING AT $19.98 MIC & CART PRICING\\nShop Now'), PromotionReturn(name='NIKE OMNI ADULTS STARTING AT $59.98/KIDS STARTING AT $49.98', start_date='2025-07-09', end_date='2025-07-19', url='https://www.shoecarnival.com/nike?sale=true', status='Active', name_for_pods='NIKE OMNI ADULTS STARTING AT $59.98/KIDS STARTING AT $49.98 (07/09/2025-07/19/2025)', blurb='In Store and Online\\nNIKE OMNI ADULTS STARTING AT $59.98/KIDS STARTING AT $49.98\\nShop Now'), PromotionReturn(name='CROCS STARTING AT $39.98 MIC/CART PRICING', start_date='2025-07-09', end_date='2025-07-26', url='https://www.shoecarnival.com/crocs?sale=true', status='Active', name_for_pods='CROCS STARTING AT $39.98 MIC/CART PRICING (07/09/2025-07/26/2025)', blurb='In Store and Online\\nCROCS STARTING AT $39.98 MIC/CART PRICING\\nShop Now'), PromotionReturn(name='BTS ACES: 25% OFF BACKPACKS 25% OFF HYDRATION 25% OFF LUNCH BOXES SOCKS BOGO 1/2 OFF', start_date='2025-07-16', end_date='2025-09-02', url='https://www.shoecarnival.com/accessories', status='Active', name_for_pods='BTS ACES: 25% OFF BACKPACKS 25% OFF HYDRATION 25% OFF LUNCH BOXES SOCKS BOGO 1/2 OFF (07/16/2025-09/02/2025)', blurb='In Store and Online\\nBTS ACES: 25% OFF BACKPACKS 25% OFF HYDRATION 25% OFF LUNCH BOXES SOCKS BOGO 1/2 OFF\\nShop Now'), PromotionReturn(name='BTS MW ATHLETICS 59.98-69.98 KIDS ATHLETICS STARTING AT $34.98 KIDS CASUALS STARTING AT $19.98 WOMENS STARTING AT $44.98', start_date='2025-07-16', end_date='2025-09-02', url='', status='Active', name_for_pods='BTS MW ATHLETICS 59.98-69.98 KIDS ATHLETICS STARTING AT $34.98 KIDS CASUALS STARTING AT $19.98 WOMENS STARTING AT $44.98 (07/16/2025-09/02/2025)', blurb='In Store and Online\\nBTS MW ATHLETICS 59.98-69.98 KIDS ATHLETICS STARTING AT $34.98 KIDS CASUALS STARTING AT $19.98 WOMENS STARTING AT $44.98\\nShop Now'), PromotionReturn(name='PUMA UP TO 25% OFF SNEAKERS & ACES', start_date='2025-07-16', end_date='2025-07-22', url='https://www.shoecarnival.com/puma-sale', status='Active', name_for_pods='PUMA UP TO 25% OFF SNEAKERS & ACES (07/16/2025-07/22/2025)', blurb='In Store and Online\\nPUMA UP TO 25% OFF SNEAKERS & ACES\\nShop Now'), PromotionReturn(name='SKECHERS STARTING UNDER $65 MIC/CART PRICING', start_date='2025-07-16', end_date='2025-07-22', url='https://www.shoecarnival.com/skechers?sale=true', status='Active', name_for_pods='SKECHERS STARTING UNDER $65 MIC/CART PRICING (07/16/2025-07/22/2025)', blurb='In Store and Online\\nSKECHERS STARTING UNDER $65 MIC/CART PRICING\\nShop Now'), PromotionReturn(name='FASHION SNEAKERS W STARTING AT 34.98 K STARTING AT 24.98 MIC/CART PRICING', start_date='2025-07-16', end_date='2025-07-22', url='https://www.shoecarnival.com/fashion-sneakers?sale=true', status='Active', name_for_pods='FASHION SNEAKERS W STARTING AT 34.98 K STARTING AT 24.98 MIC/CART PRICING (07/16/2025-07/22/2025)', blurb='In Store and Online\\nFASHION SNEAKERS W STARTING AT 34.98 K STARTING AT 24.98 MIC/CART PRICING\\nShop Now')]\n"
     ]
    }
   ],
   "source": [
    "#Sample code for promotion retrieval\n",
    "\n",
    "result = await Runner.run(promotion_agent, input=\"What promotions are active on 07/19/2025?\")\n",
    "\n",
    "print(result.final_output)"
   ]
  },
  {
   "cell_type": "code",
   "execution_count": 24,
   "id": "77420285",
   "metadata": {},
   "outputs": [],
   "source": [
    "CONVERSATIONAL_AGENT_INSTRUCTIONS = \"\"\"\n",
    "You are an AI marketing assistant for Shoe Carnival. Your role is to help users explore active promotions and guide them toward creating effective marketing campaign briefs.\n",
    "\n",
    "Capabilities:\n",
    "- You have access to one tool: `promotion_agent_as_tool`. This tool returns all active promotions for a given date.\n",
    "- You must only use promotions provided by this tool. Do not invent any.\n",
    "- You can call the tool using a date provided by the user (e.g., \"What promotions are available on 07/19/2025?\").\n",
    "- When given a date such as xx/xx, infer that it's the current year.\n",
    "\n",
    "What You Can Do:\n",
    "- If the user asks what promotions are active for a specific day, use the tool to retrieve them and display them clearly.\n",
    "- If the user asks for a themed campaign (e.g., \"Make an athletics email for 07/19/2025\"):\n",
    "  - Use the tool to get promotions for that date.\n",
    "  - Filter for those that match the theme by checking the `name`, `nameForPods`, or `blurb` fields.\n",
    "  - Suggest 2–3 matching promotions and explain why they fit the request.\n",
    "- If the user is unsure, suggest popular themes (e.g., sandals, back-to-school, athletics).\n",
    "\n",
    "Limitations:\n",
    "- Do not create full briefs yet. Your job is to help the user explore and select relevant promotions first.\n",
    "- Never invent or reference promotions that do not come from the tool.\n",
    "\n",
    "Your tone should be friendly, proactive, and focused on helping the user build a strong foundation for a campaign.\n",
    "\n",
    "\n",
    "\"\"\"\n",
    "\n",
    "\n",
    "\n",
    "conversational_tools = [promotion_agent_as_tool]\n",
    "\n",
    "\n",
    "\n",
    "conversational_agent = Agent(\n",
    "    name=\"Conversational Agent\",\n",
    "    instructions=CONVERSATIONAL_AGENT_INSTRUCTIONS,\n",
    "    model=\"gpt-4o-mini\",\n",
    "    tools=conversational_tools,\n",
    ")"
   ]
  },
  {
   "cell_type": "code",
   "execution_count": 29,
   "id": "1a0d9187",
   "metadata": {},
   "outputs": [
    {
     "name": "stderr",
     "output_type": "stream",
     "text": [
      "C:\\Users\\javon\\AppData\\Local\\Temp\\ipykernel_35636\\1584061420.py:42: UserWarning: You have not specified a value for the `type` parameter. Defaulting to the 'tuples' format for chatbot messages, but this is deprecated and will be removed in a future version of Gradio. Please set type='messages' instead, which uses openai-style dictionaries with 'role' and 'content' keys.\n",
      "  chatbot = gr.Chatbot(label=\"Conversation History\", height=400)\n"
     ]
    }
   ],
   "source": [
    "import gradio as gr\n",
    "from typing import List, Dict\n",
    "\n",
    "# Initial context\n",
    "initial_context = {\n",
    "    \"last_promotions\": [],\n",
    "    \"last_theme_request\": None,\n",
    "    \"last_requested_date\": None,\n",
    "    \"last_custom_input\": \"\"\n",
    "}\n",
    "\n",
    "async def chat_with_agent(message: str, history: List[List[str]], context: dict) -> tuple[str, List[List[str]], dict]:\n",
    "    try:\n",
    "        context[\"last_custom_input\"] = message\n",
    "\n",
    "        # Run your agent\n",
    "        result = await Runner.run(conversational_agent, input=message)\n",
    "\n",
    "        if hasattr(result.final_output, 'promotions'):\n",
    "            context[\"last_promotions\"] = result.final_output.promotions\n",
    "\n",
    "            response = f\"Found {len(result.final_output.promotions)} active promotions:\\n\\n\"\n",
    "            for i, promo in enumerate(result.final_output.promotions, 1):\n",
    "                response += f\"{i}. {promo.name}\\n\"\n",
    "                response += f\"   Date Range: {promo.start_date} - {promo.end_date}\\n\"\n",
    "                response += f\"   Status: {promo.status}\\n\\n\"\n",
    "        else:\n",
    "            response = str(result.final_output)\n",
    "\n",
    "    except Exception as e:\n",
    "        response = f\"Error: {str(e)}\"\n",
    "\n",
    "    history.append([message, response])\n",
    "    return \"\", history, context\n",
    "\n",
    "\n",
    "# Create the Gradio interface\n",
    "with gr.Blocks(title=\"Shoe Carnival Promotion Agent\") as demo:\n",
    "    gr.Markdown(\"# 🛍️ Shoe Carnival Promotion Agent\")\n",
    "    gr.Markdown(\"Ask about active promotions for any date!\")\n",
    "\n",
    "    chatbot = gr.Chatbot(label=\"Conversation History\", height=400)\n",
    "    msg = gr.Textbox(label=\"Your Message\", placeholder=\"e.g., Create an athletics email for 07/19/2025\")\n",
    "\n",
    "    # 🧠 This keeps the Python dict between submissions\n",
    "    memory = gr.State(initial_context)\n",
    "\n",
    "    send_btn = gr.Button(\"Send\")\n",
    "    clear_btn = gr.Button(\"Clear History\")\n",
    "\n",
    "    # Set up events\n",
    "    send_btn.click(\n",
    "        fn=chat_with_agent,\n",
    "        inputs=[msg, chatbot, memory],\n",
    "        outputs=[msg, chatbot, memory]\n",
    "    )\n",
    "\n",
    "    msg.submit(\n",
    "        fn=chat_with_agent,\n",
    "        inputs=[msg, chatbot, memory],\n",
    "        outputs=[msg, chatbot, memory]\n",
    "    )\n",
    "\n",
    "    clear_btn.click(\n",
    "        fn=lambda: ([], \"\", initial_context),\n",
    "        outputs=[chatbot, msg, memory]\n",
    "    )\n"
   ]
  },
  {
   "cell_type": "code",
   "execution_count": null,
   "id": "42a30257",
   "metadata": {},
   "outputs": [
    {
     "name": "stdout",
     "output_type": "stream",
     "text": [
      "* Running on local URL:  http://127.0.0.1:7860\n",
      "* To create a public link, set `share=True` in `launch()`.\n"
     ]
    },
    {
     "data": {
      "text/html": [
       "<div><iframe src=\"http://127.0.0.1:7860/\" width=\"100%\" height=\"500\" allow=\"autoplay; camera; microphone; clipboard-read; clipboard-write;\" frameborder=\"0\" allowfullscreen></iframe></div>"
      ],
      "text/plain": [
       "<IPython.core.display.HTML object>"
      ]
     },
     "metadata": {},
     "output_type": "display_data"
    },
    {
     "name": "stdout",
     "output_type": "stream",
     "text": [
      "Successfully loaded 45 active promotions from C:\\Users\\javon\\projects\\agents\\TrueActivePromos.csv\n",
      "Keyboard interruption in main thread... closing server.\n"
     ]
    }
   ],
   "source": [
    "\n",
    "# Launch the app\n",
    "if __name__ == \"__main__\":\n",
    "    demo.launch(share=False, debug=True)"
   ]
  }
 ],
 "metadata": {
  "kernelspec": {
   "display_name": ".venv",
   "language": "python",
   "name": "python3"
  },
  "language_info": {
   "codemirror_mode": {
    "name": "ipython",
    "version": 3
   },
   "file_extension": ".py",
   "mimetype": "text/x-python",
   "name": "python",
   "nbconvert_exporter": "python",
   "pygments_lexer": "ipython3",
   "version": "3.12.11"
  }
 },
 "nbformat": 4,
 "nbformat_minor": 5
}
